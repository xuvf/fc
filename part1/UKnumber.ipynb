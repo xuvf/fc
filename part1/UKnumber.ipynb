{
 "cells": [
  {
   "cell_type": "code",
   "execution_count": 51,
   "metadata": {
    "scrolled": false
   },
   "outputs": [
    {
     "name": "stdout",
     "output_type": "stream",
     "text": [
      "247\n"
     ]
    }
   ],
   "source": [
    "\"\"\"This module should filter and sort uk phone numbers from the text file provided. \"\"\"\n",
    "import re\n",
    "import sys\n",
    "\n",
    "\n",
    "def main(file):\n",
    "    raw_text = file.read()\n",
    "    result = []\n",
    "    \n",
    "    rule = re.compile(\" \")\n",
    "    raw_text = (rule.sub('',raw_text))\n",
    "    rule = re.compile(r\"\\+44\\d{10,}\")\n",
    "    uknumber = rule.findall(raw_text)\n",
    "    for i in range(len(uknumber)):\n",
    "        if (len(uknumber[i])<14):\n",
    "            result.append(uknumber[i])\n",
    "    \n",
    "    print(len(result))\n",
    "\n",
    "if __name__ == \"__main__\" :\n",
    "    fileName = \"phone_log.txt\"\n",
    "    f = open(fileName,\"r\")\n",
    "    main(f)\n"
   ]
  },
  {
   "cell_type": "code",
   "execution_count": null,
   "metadata": {},
   "outputs": [],
   "source": []
  },
  {
   "cell_type": "code",
   "execution_count": null,
   "metadata": {},
   "outputs": [],
   "source": []
  },
  {
   "cell_type": "code",
   "execution_count": null,
   "metadata": {},
   "outputs": [],
   "source": []
  }
 ],
 "metadata": {
  "kernelspec": {
   "display_name": "Python 3",
   "language": "python",
   "name": "python3"
  },
  "language_info": {
   "codemirror_mode": {
    "name": "ipython",
    "version": 3
   },
   "file_extension": ".py",
   "mimetype": "text/x-python",
   "name": "python",
   "nbconvert_exporter": "python",
   "pygments_lexer": "ipython3",
   "version": "3.7.0"
  }
 },
 "nbformat": 4,
 "nbformat_minor": 2
}
